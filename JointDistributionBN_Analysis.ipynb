{
 "cells": [
  {
   "cell_type": "code",
   "outputs": [],
   "source": [
    "import itertools\n",
    "from functools import reduce\n",
    "from operator import mul\n",
    "import matplotlib.pyplot as plt\n",
    "import networkx as nx\n",
    "from daft import PGM\n",
    "from pgmpy.models import BayesianModel, BayesianNetwork\n",
    "from pgmpy.estimators import MaximumLikelihoodEstimator, ParameterEstimator\n",
    "from pgmpy.factors.discrete import TabularCPD, JointProbabilityDistribution, DiscreteFactor\n",
    "from pgmpy.inference import VariableElimination\n",
    "import pandas as pd\n",
    "import numpy as np\n",
    "from pgmpy.independencies import Independencies"
   ],
   "metadata": {
    "collapsed": false
   },
   "id": "d622d5d4ff9d4c75"
  },
  {
   "cell_type": "markdown",
   "source": [
    "**Problem 5**\n",
    "We are given the following joint distribution over the random variables A, B, C, and D. \n",
    "\n",
    "| A | B | C | D | P(A,B,C,D) |\n",
    "|---|---|---|---|------------|\n",
    "| T | T | T | T | 0.0448     |\n",
    "| T | T | T | F | 0.0252     |\n",
    "| T | T | F | T | 0.0112     |\n",
    "| T | T | F | F | 0.0588     |\n",
    "| T | F | T | T | 0.0144     |\n",
    "| T | F | T | F | 0.0144     |\n",
    "| T | F | F | T | 0.096      |\n",
    "| F | F | F | F | 0.216      |\n",
    "| F | T | T | T | 0.1024     |\n",
    "| F | T | T | F | 0.0576     |\n",
    "| F | T | F | T | 0.0256     |\n",
    "| F | T | F | F | 0.1344     |\n",
    "| F | F | T | T | 0.1152     |\n",
    "| F | F | T | F | 0.1152     |\n",
    "| F | F | F | T | 0.0768     |\n",
    "| F | F | F | F | 0.1728     |\n",
    "\n",
    " 1. Are A and B independent? \n",
    " 2. Are A and C independent?\n",
    " 3. Are A and C independent given B?\n",
    " 4. Are A and D independent?\n",
    " 5. Are A and D independent given C?\n"
   ],
   "metadata": {
    "collapsed": false
   },
   "id": "e49babf0e6491cd0"
  },
  {
   "cell_type": "markdown",
   "source": [
    "**Using JointProbabilityDistribution in pgmpy library**"
   ],
   "metadata": {
    "collapsed": false
   },
   "id": "7b70e5de1fc19a94"
  },
  {
   "cell_type": "code",
   "outputs": [
    {
     "name": "stdout",
     "output_type": "stream",
     "text": [
      "A and B independent: No\n",
      "A and C independent: No\n",
      "A and C independent given B: Yes\n",
      "A and D independent: Yes\n",
      "A and D independent given C: No\n"
     ]
    }
   ],
   "source": [
    "# Define the variables and their states\n",
    "variables = ['A', 'B', 'C', 'D']\n",
    "cardinality = [2, 2, 2, 2]  # Two states for each variable: True and False\n",
    "\n",
    "probabilities = [\n",
    "    0.0448, 0.0252, 0.0112, 0.0588,\n",
    "    0.0144, 0.0144, 0.0096, 0.0216,\n",
    "    0.1024, 0.0576, 0.0256, 0.1344,\n",
    "    0.1152, 0.1152, 0.0768, 0.1728\n",
    "]\n",
    "\n",
    "jpd_table = JointProbabilityDistribution(variables, cardinality, np.array(probabilities))\n",
    "\n",
    "# Check for independence between variables\n",
    "independence_results = {\n",
    "    \"A and B independent\": jpd_table.check_independence(['A'], ['B']),\n",
    "    \"A and C independent\": jpd_table.check_independence(['A'], ['C']),\n",
    "    \"A and C independent given B\": jpd_table.check_independence(['A'], ['C'], ('B',), condition_random_variable=True),\n",
    "    \"A and D independent\": jpd_table.check_independence(['A'], ['D']),\n",
    "    \"A and D independent given C\": jpd_table.check_independence(['A'], ['D'], ('C',), condition_random_variable=True)\n",
    "}\n",
    "\n",
    "for question, result in independence_results.items():\n",
    "    print(f\"{question}: {'Yes' if result else 'No'}\")"
   ],
   "metadata": {
    "collapsed": false,
    "ExecuteTime": {
     "end_time": "2024-02-11T19:21:08.761341800Z",
     "start_time": "2024-02-11T19:21:08.726261900Z"
    }
   },
   "id": "4581c15ad3e9a4aa",
   "execution_count": 33
  },
  {
   "cell_type": "markdown",
   "source": [
    "**Using Pandas and TabularCPD in pgmpy library**"
   ],
   "metadata": {
    "collapsed": false
   },
   "id": "3c760b77fd29b228"
  },
  {
   "cell_type": "code",
   "outputs": [
    {
     "name": "stdout",
     "output_type": "stream",
     "text": [
      "       A     B     C     D  P(A,B,C,D)\n",
      "0   A(0)  B(0)  C(0)  D(0)      0.0448\n",
      "1   A(0)  B(0)  C(0)  D(1)      0.0252\n",
      "2   A(0)  B(0)  C(1)  D(0)      0.0112\n",
      "3   A(0)  B(0)  C(1)  D(1)      0.0588\n",
      "4   A(0)  B(1)  C(0)  D(0)      0.0144\n",
      "5   A(0)  B(1)  C(0)  D(1)      0.0144\n",
      "6   A(0)  B(1)  C(1)  D(0)      0.0096\n",
      "7   A(0)  B(1)  C(1)  D(1)      0.0216\n",
      "8   A(1)  B(0)  C(0)  D(0)      0.1024\n",
      "9   A(1)  B(0)  C(0)  D(1)      0.0576\n",
      "10  A(1)  B(0)  C(1)  D(0)      0.0256\n",
      "11  A(1)  B(0)  C(1)  D(1)      0.1344\n",
      "12  A(1)  B(1)  C(0)  D(0)      0.1152\n",
      "13  A(1)  B(1)  C(0)  D(1)      0.1152\n",
      "14  A(1)  B(1)  C(1)  D(0)      0.0768\n",
      "15  A(1)  B(1)  C(1)  D(1)      0.1728\n"
     ]
    }
   ],
   "source": [
    "import pandas as pd\n",
    "\n",
    "# Define your JPD data\n",
    "jpd_data = [\n",
    "    ('A(0)', 'B(0)', 'C(0)', 'D(0)', 0.0448),\n",
    "    ('A(0)', 'B(0)', 'C(0)', 'D(1)', 0.0252),\n",
    "    ('A(0)', 'B(0)', 'C(1)', 'D(0)', 0.0112),\n",
    "    ('A(0)', 'B(0)', 'C(1)', 'D(1)', 0.0588),\n",
    "    ('A(0)', 'B(1)', 'C(0)', 'D(0)', 0.0144),\n",
    "    ('A(0)', 'B(1)', 'C(0)', 'D(1)', 0.0144),\n",
    "    ('A(0)', 'B(1)', 'C(1)', 'D(0)', 0.0096),\n",
    "    ('A(0)', 'B(1)', 'C(1)', 'D(1)', 0.0216),\n",
    "    ('A(1)', 'B(0)', 'C(0)', 'D(0)', 0.1024),\n",
    "    ('A(1)', 'B(0)', 'C(0)', 'D(1)', 0.0576),\n",
    "    ('A(1)', 'B(0)', 'C(1)', 'D(0)', 0.0256),\n",
    "    ('A(1)', 'B(0)', 'C(1)', 'D(1)', 0.1344),\n",
    "    ('A(1)', 'B(1)', 'C(0)', 'D(0)', 0.1152),\n",
    "    ('A(1)', 'B(1)', 'C(0)', 'D(1)', 0.1152),\n",
    "    ('A(1)', 'B(1)', 'C(1)', 'D(0)', 0.0768),\n",
    "    ('A(1)', 'B(1)', 'C(1)', 'D(1)', 0.1728)\n",
    "]\n",
    "\n",
    "# Create a DataFrame from the JPD data\n",
    "columns = ['A', 'B', 'C', 'D', 'P(A,B,C,D)']\n",
    "df = pd.DataFrame(jpd_data, columns=columns)\n",
    "print(df)"
   ],
   "metadata": {
    "collapsed": false,
    "ExecuteTime": {
     "end_time": "2024-02-11T19:24:07.807734600Z",
     "start_time": "2024-02-11T19:24:07.785910200Z"
    }
   },
   "id": "480c6b4580750e0d",
   "execution_count": 34
  },
  {
   "cell_type": "code",
   "outputs": [
    {
     "name": "stdout",
     "output_type": "stream",
     "text": [
      "0.2\n",
      "Sum of probabilities for A:\n",
      "A(0): 0.2\n",
      "A(1): 0.8\n",
      "\n",
      "Sum of probabilities for B:\n",
      "B(0): 0.45999999999999996\n",
      "B(1): 0.54\n",
      "\n",
      "Sum of probabilities for C:\n",
      "C(0): 0.48919999999999997\n",
      "C(1): 0.5107999999999999\n",
      "\n",
      "Sum of probabilities for D:\n",
      "D(0): 0.4\n",
      "D(1): 0.5999999999999999\n"
     ]
    }
   ],
   "source": [
    "model = BayesianNetwork([('A', 'P(A,B,C,D)'), ('B', 'P(A,B,C,D)'), ('C', 'P(A,B,C,D)'), ('D','P(A,B,C,D)')])\n",
    "\n",
    "# Initialize dictionaries to hold sums for each variable level\n",
    "sums_A = {'A(0)': 0, 'A(1)': 0}\n",
    "sums_B = {'B(0)': 0, 'B(1)': 0}\n",
    "sums_C = {'C(0)': 0, 'C(1)': 0}\n",
    "sums_D = {'D(0)': 0, 'D(1)': 0}\n",
    "\n",
    "# Iterate over rows in the DataFrame and sum up probabilities for A, B, C, and D\n",
    "for _, row in df.iterrows():\n",
    "    a_val = row['A']\n",
    "    b_val = row['B']\n",
    "    c_val = row['C']\n",
    "    d_val = row['D']\n",
    "    probability = row['P(A,B,C,D)']\n",
    "\n",
    "    # Sum probabilities for A\n",
    "    sums_A[a_val] += probability\n",
    "\n",
    "    # Sum probabilities for B\n",
    "    sums_B[b_val] += probability\n",
    "\n",
    "    # Sum probabilities for C\n",
    "    sums_C[c_val] += probability\n",
    "\n",
    "    # Sum probabilities for D\n",
    "    sums_D[d_val] += probability\n",
    "\n",
    "# Print the sums\n",
    "print(\"Sum of probabilities for A:\")\n",
    "for key, value in sums_A.items():\n",
    "    print(f\"{key}: {value}\")\n",
    "\n",
    "print(\"\\nSum of probabilities for B:\")\n",
    "for key, value in sums_B.items():\n",
    "    print(f\"{key}: {value}\")\n",
    "\n",
    "print(\"\\nSum of probabilities for C:\")\n",
    "for key, value in sums_C.items():\n",
    "    print(f\"{key}: {value}\")\n",
    "\n",
    "print(\"\\nSum of probabilities for D:\")\n",
    "for key, value in sums_D.items():\n",
    "    print(f\"{key}: {value}\")\n",
    "\n",
    "\n",
    "# Define the Conditional Probability Distributions (CPDs) with computed values\n",
    "cpd_A = TabularCPD(variable='A', variable_card=2, values=[[sums_A['A(0)']], [sums_A['A(1)']]])\n",
    "cpd_B = TabularCPD(variable='B', variable_card=2, values=[[sums_B['B(0)']], [sums_B['B(1)']]])\n",
    "cpd_C = TabularCPD(variable='C', variable_card=2, values=[[sums_C['C(0)']], [sums_C['C(1)']]])\n",
    "cpd_D = TabularCPD(variable='D', variable_card=2, values=[[sums_D['D(0)']], [sums_D['D(1)']]])\n",
    "cpd_P = TabularCPD(variable='P(A,B,C,D)', variable_card=2,\n",
    "                   values=[[0.0448, 0.0252, 0.0112, 0.0588,\n",
    "                            0.0144, 0.0144, 0.0096, 0.0216,\n",
    "                            0.1024, 0.0576, 0.0256, 0.1344,\n",
    "                            0.1152, 0.1152, 0.0768, 0.1728],\n",
    "                           [0.9552, 0.9748, 0.9888, 0.9412,\n",
    "                            0.9856, 0.9856, 0.9904, 0.9784,\n",
    "                            0.8976, 0.9424, 0.9744, 0.8656,\n",
    "                            0.8848, 0.8848, 0.9232, 0.8272]],\n",
    "                   evidence=['A', 'B', 'C', 'D'],\n",
    "                   evidence_card=[2, 2, 2, 2])\n",
    "\n",
    "model.add_cpds(cpd_P,cpd_A,cpd_B,cpd_C,cpd_D)\n",
    "infer = VariableElimination(model)"
   ],
   "metadata": {
    "collapsed": false,
    "ExecuteTime": {
     "end_time": "2024-02-11T19:50:58.491079Z",
     "start_time": "2024-02-11T19:50:58.469437300Z"
    }
   },
   "id": "c7b7e224d0572a7f",
   "execution_count": 53
  },
  {
   "cell_type": "markdown",
   "source": [
    "**Are A and B independent?**"
   ],
   "metadata": {
    "collapsed": false
   },
   "id": "bf69a1c0fe203371"
  },
  {
   "cell_type": "code",
   "outputs": [
    {
     "name": "stdout",
     "output_type": "stream",
     "text": [
      "A and B are dependent.\n"
     ]
    }
   ],
   "source": [
    "AB_dist = infer.query(['A','B'])\n",
    "\n",
    "filtered_data = df[(df['A'] == 'A(1)') & (df['B'] == 'B(1)')]\n",
    "\n",
    "# Calculate the sum over column 'P(A,B,C,D)' for the filtered rows\n",
    "sum_p = filtered_data['P(A,B,C,D)'].sum()\n",
    "\n",
    "# Calculate the product of probabilities for the filtered rows\n",
    "product_p = filtered_data['P(A,B,C,D)'].prod()\n",
    "\n",
    "\n",
    "# Check if the sum and product match\n",
    "if sum_p == product_p:\n",
    "    print(\"A and B are independent.\")\n",
    "else:\n",
    "    print(\"A and B are dependent.\")"
   ],
   "metadata": {
    "collapsed": false,
    "ExecuteTime": {
     "end_time": "2024-02-11T20:00:59.548287200Z",
     "start_time": "2024-02-11T20:00:59.534951100Z"
    }
   },
   "id": "8bb2cc90d6b78491",
   "execution_count": 57
  },
  {
   "cell_type": "markdown",
   "source": [
    "**Are A and B independent?**"
   ],
   "metadata": {
    "collapsed": false
   },
   "id": "9883e7dbc3c3afb6"
  },
  {
   "cell_type": "code",
   "outputs": [
    {
     "name": "stdout",
     "output_type": "stream",
     "text": [
      "A and C are dependent.\n"
     ]
    }
   ],
   "source": [
    "AC_dist = infer.query(['A', 'C'])\n",
    "\n",
    "filtered_data_AC = df[(df['A'] == 'A(1)') & (df['C'] == 'C(1)')]\n",
    "\n",
    "# Calculate the sum over column 'P(A,B,C,D)' for the filtered rows\n",
    "sum_p_AC = filtered_data_AC['P(A,B,C,D)'].sum()\n",
    "\n",
    "# Calculate the product of probabilities for the filtered rows\n",
    "product_p_AC = filtered_data_AC['P(A,B,C,D)'].prod()\n",
    "\n",
    "# Check if the sum and product match\n",
    "if sum_p_AC == product_p_AC:\n",
    "    print(\"A and C are independent.\")\n",
    "else:\n",
    "    print(\"A and C are dependent.\")"
   ],
   "metadata": {
    "collapsed": false,
    "ExecuteTime": {
     "end_time": "2024-02-11T20:01:38.477465900Z",
     "start_time": "2024-02-11T20:01:38.460852200Z"
    }
   },
   "id": "8185fd5d1263508d",
   "execution_count": 58
  },
  {
   "cell_type": "markdown",
   "source": [
    "**Are A and C independent given B?**"
   ],
   "metadata": {
    "collapsed": false
   },
   "id": "59cb2187f10388c4"
  },
  {
   "cell_type": "code",
   "outputs": [
    {
     "ename": "KeyError",
     "evalue": "'B(1)'",
     "output_type": "error",
     "traceback": [
      "\u001B[1;31m---------------------------------------------------------------------------\u001B[0m",
      "\u001B[1;31mKeyError\u001B[0m                                  Traceback (most recent call last)",
      "Cell \u001B[1;32mIn[59], line 2\u001B[0m\n\u001B[0;32m      1\u001B[0m \u001B[38;5;66;03m# Query the joint distribution of A and C given B\u001B[39;00m\n\u001B[1;32m----> 2\u001B[0m AC_given_B_dist \u001B[38;5;241m=\u001B[39m \u001B[43minfer\u001B[49m\u001B[38;5;241;43m.\u001B[39;49m\u001B[43mquery\u001B[49m\u001B[43m(\u001B[49m\u001B[43m[\u001B[49m\u001B[38;5;124;43m'\u001B[39;49m\u001B[38;5;124;43mA\u001B[39;49m\u001B[38;5;124;43m'\u001B[39;49m\u001B[43m,\u001B[49m\u001B[43m \u001B[49m\u001B[38;5;124;43m'\u001B[39;49m\u001B[38;5;124;43mC\u001B[39;49m\u001B[38;5;124;43m'\u001B[39;49m\u001B[43m]\u001B[49m\u001B[43m,\u001B[49m\u001B[43m \u001B[49m\u001B[43mevidence\u001B[49m\u001B[38;5;241;43m=\u001B[39;49m\u001B[43m{\u001B[49m\u001B[38;5;124;43m'\u001B[39;49m\u001B[38;5;124;43mB\u001B[39;49m\u001B[38;5;124;43m'\u001B[39;49m\u001B[43m:\u001B[49m\u001B[43m \u001B[49m\u001B[38;5;124;43m'\u001B[39;49m\u001B[38;5;124;43mB(1)\u001B[39;49m\u001B[38;5;124;43m'\u001B[39;49m\u001B[43m}\u001B[49m\u001B[43m)\u001B[49m\n\u001B[0;32m      4\u001B[0m filtered_data_AC_given_B \u001B[38;5;241m=\u001B[39m df[(df[\u001B[38;5;124m'\u001B[39m\u001B[38;5;124mA\u001B[39m\u001B[38;5;124m'\u001B[39m] \u001B[38;5;241m==\u001B[39m \u001B[38;5;124m'\u001B[39m\u001B[38;5;124mA(1)\u001B[39m\u001B[38;5;124m'\u001B[39m) \u001B[38;5;241m&\u001B[39m (df[\u001B[38;5;124m'\u001B[39m\u001B[38;5;124mB\u001B[39m\u001B[38;5;124m'\u001B[39m] \u001B[38;5;241m==\u001B[39m \u001B[38;5;124m'\u001B[39m\u001B[38;5;124mB(1)\u001B[39m\u001B[38;5;124m'\u001B[39m) \u001B[38;5;241m&\u001B[39m (df[\u001B[38;5;124m'\u001B[39m\u001B[38;5;124mC\u001B[39m\u001B[38;5;124m'\u001B[39m] \u001B[38;5;241m==\u001B[39m \u001B[38;5;124m'\u001B[39m\u001B[38;5;124mC(1)\u001B[39m\u001B[38;5;124m'\u001B[39m)]\n\u001B[0;32m      6\u001B[0m \u001B[38;5;66;03m# Calculate the sum over column 'P(A,B,C,D)' for the filtered rows\u001B[39;00m\n",
      "File \u001B[1;32m~\\PycharmProjects\\Assignment1_1_CS583\\venv\\lib\\site-packages\\pgmpy\\inference\\ExactInference.py:338\u001B[0m, in \u001B[0;36mVariableElimination.query\u001B[1;34m(self, variables, evidence, virtual_evidence, elimination_order, joint, show_progress)\u001B[0m\n\u001B[0;32m    336\u001B[0m     indexer \u001B[38;5;241m=\u001B[39m [\u001B[38;5;28mslice\u001B[39m(\u001B[38;5;28;01mNone\u001B[39;00m)] \u001B[38;5;241m*\u001B[39m \u001B[38;5;28mlen\u001B[39m(phi\u001B[38;5;241m.\u001B[39mvariables)\n\u001B[0;32m    337\u001B[0m     \u001B[38;5;28;01mfor\u001B[39;00m index \u001B[38;5;129;01min\u001B[39;00m indexes_to_reduce:\n\u001B[1;32m--> 338\u001B[0m         indexer[index] \u001B[38;5;241m=\u001B[39m \u001B[43mphi\u001B[49m\u001B[38;5;241;43m.\u001B[39;49m\u001B[43mget_state_no\u001B[49m\u001B[43m(\u001B[49m\n\u001B[0;32m    339\u001B[0m \u001B[43m            \u001B[49m\u001B[43mphi\u001B[49m\u001B[38;5;241;43m.\u001B[39;49m\u001B[43mvariables\u001B[49m\u001B[43m[\u001B[49m\u001B[43mindex\u001B[49m\u001B[43m]\u001B[49m\u001B[43m,\u001B[49m\u001B[43m \u001B[49m\u001B[43mevidence\u001B[49m\u001B[43m[\u001B[49m\u001B[43mphi\u001B[49m\u001B[38;5;241;43m.\u001B[39;49m\u001B[43mvariables\u001B[49m\u001B[43m[\u001B[49m\u001B[43mindex\u001B[49m\u001B[43m]\u001B[49m\u001B[43m]\u001B[49m\n\u001B[0;32m    340\u001B[0m \u001B[43m        \u001B[49m\u001B[43m)\u001B[49m\n\u001B[0;32m    341\u001B[0m     reduce_indexes\u001B[38;5;241m.\u001B[39mappend(\u001B[38;5;28mtuple\u001B[39m(indexer))\n\u001B[0;32m    343\u001B[0m \u001B[38;5;66;03m# Step 5.2: Prepare values and index arrays to do use in einsum\u001B[39;00m\n",
      "File \u001B[1;32m~\\PycharmProjects\\Assignment1_1_CS583\\venv\\lib\\site-packages\\pgmpy\\utils\\state_name.py:72\u001B[0m, in \u001B[0;36mStateNameMixin.get_state_no\u001B[1;34m(self, var, state_name)\u001B[0m\n\u001B[0;32m     68\u001B[0m \u001B[38;5;250m\u001B[39m\u001B[38;5;124;03m\"\"\"\u001B[39;00m\n\u001B[0;32m     69\u001B[0m \u001B[38;5;124;03mGiven `var` and `state_name` return the state number.\u001B[39;00m\n\u001B[0;32m     70\u001B[0m \u001B[38;5;124;03m\"\"\"\u001B[39;00m\n\u001B[0;32m     71\u001B[0m \u001B[38;5;28;01mif\u001B[39;00m \u001B[38;5;28mself\u001B[39m\u001B[38;5;241m.\u001B[39mstate_names:\n\u001B[1;32m---> 72\u001B[0m     \u001B[38;5;28;01mreturn\u001B[39;00m \u001B[38;5;28;43mself\u001B[39;49m\u001B[38;5;241;43m.\u001B[39;49m\u001B[43mname_to_no\u001B[49m\u001B[43m[\u001B[49m\u001B[43mvar\u001B[49m\u001B[43m]\u001B[49m\u001B[43m[\u001B[49m\u001B[43mstate_name\u001B[49m\u001B[43m]\u001B[49m\n\u001B[0;32m     73\u001B[0m \u001B[38;5;28;01melse\u001B[39;00m:\n\u001B[0;32m     74\u001B[0m     \u001B[38;5;28;01mreturn\u001B[39;00m state_name\n",
      "\u001B[1;31mKeyError\u001B[0m: 'B(1)'"
     ]
    }
   ],
   "source": [
    "# Query the joint distribution of A and C given B\n",
    "AC_given_B_dist = infer.query(['A', 'C'], evidence={'B': 'B(1)'})\n",
    "\n",
    "filtered_data_AC_given_B = df[(df['A'] == 'A(1)') & (df['B'] == 'B(1)') & (df['C'] == 'C(1)')]\n",
    "\n",
    "# Calculate the sum over column 'P(A,B,C,D)' for the filtered rows\n",
    "sum_p_AC_given_B = filtered_data_AC_given_B['P(A,B,C,D)'].sum()\n",
    "\n",
    "# Calculate the product of probabilities for the filtered rows\n",
    "product_p_AC_given_B = filtered_data_AC_given_B['P(A,B,C,D)'].prod()\n",
    "\n",
    "# Check if the sum and product match\n",
    "if sum_p_AC_given_B == product_p_AC_given_B:\n",
    "    print(\"A and C are independent given B.\")\n",
    "else:\n",
    "    print(\"A and C are dependent given B.\")\n"
   ],
   "metadata": {
    "collapsed": false,
    "ExecuteTime": {
     "end_time": "2024-02-11T20:03:06.226334100Z",
     "start_time": "2024-02-11T20:03:06.094704300Z"
    }
   },
   "id": "a239238cfd48ffc4",
   "execution_count": 59
  }
 ],
 "metadata": {
  "kernelspec": {
   "display_name": "Python 3",
   "language": "python",
   "name": "python3"
  },
  "language_info": {
   "codemirror_mode": {
    "name": "ipython",
    "version": 2
   },
   "file_extension": ".py",
   "mimetype": "text/x-python",
   "name": "python",
   "nbconvert_exporter": "python",
   "pygments_lexer": "ipython2",
   "version": "2.7.6"
  }
 },
 "nbformat": 4,
 "nbformat_minor": 5
}
