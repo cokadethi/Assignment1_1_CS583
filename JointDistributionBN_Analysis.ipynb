{
 "cells": [
  {
   "cell_type": "code",
   "outputs": [],
   "source": [
    "import itertools\n",
    "from functools import reduce\n",
    "from operator import mul\n",
    "import matplotlib.pyplot as plt\n",
    "import networkx as nx\n",
    "from daft import PGM\n",
    "from pgmpy.models import BayesianModel, BayesianNetwork\n",
    "from pgmpy.estimators import MaximumLikelihoodEstimator, ParameterEstimator\n",
    "from pgmpy.factors.discrete import TabularCPD, JointProbabilityDistribution, DiscreteFactor\n",
    "from pgmpy.inference import VariableElimination\n",
    "import pandas as pd\n",
    "import numpy as np\n",
    "from pgmpy.independencies import Independencies"
   ],
   "metadata": {
    "collapsed": false,
    "ExecuteTime": {
     "end_time": "2024-02-12T23:45:42.838487300Z",
     "start_time": "2024-02-12T23:45:42.813576100Z"
    }
   },
   "id": "d622d5d4ff9d4c75",
   "execution_count": 151
  },
  {
   "cell_type": "markdown",
   "source": [
    "**Problem 5**\n",
    "We are given the following joint distribution over the random variables A, B, C, and D. \n",
    "\n",
    "| A | B | C | D | P(A,B,C,D) |\n",
    "|---|---|---|---|------------|\n",
    "| T | T | T | T | 0.0448     |\n",
    "| T | T | T | F | 0.0252     |\n",
    "| T | T | F | T | 0.0112     |\n",
    "| T | T | F | F | 0.0588     |\n",
    "| T | F | T | T | 0.0144     |\n",
    "| T | F | T | F | 0.0144     |\n",
    "| T | F | F | T | 0.096      |\n",
    "| F | F | F | F | 0.216      |\n",
    "| F | T | T | T | 0.1024     |\n",
    "| F | T | T | F | 0.0576     |\n",
    "| F | T | F | T | 0.0256     |\n",
    "| F | T | F | F | 0.1344     |\n",
    "| F | F | T | T | 0.1152     |\n",
    "| F | F | T | F | 0.1152     |\n",
    "| F | F | F | T | 0.0768     |\n",
    "| F | F | F | F | 0.1728     |\n",
    "\n",
    " 1. Are A and B independent? \n",
    " 2. Are A and C independent?\n",
    " 3. Are A and C independent given B?\n",
    " 4. Are A and D independent?\n",
    " 5. Are A and D independent given C?\n"
   ],
   "metadata": {
    "collapsed": false
   },
   "id": "e49babf0e6491cd0"
  },
  {
   "cell_type": "markdown",
   "source": [
    "**Using JointProbabilityDistribution in pgmpy library**"
   ],
   "metadata": {
    "collapsed": false
   },
   "id": "7b70e5de1fc19a94"
  },
  {
   "cell_type": "code",
   "outputs": [
    {
     "name": "stdout",
     "output_type": "stream",
     "text": [
      "A and B independent: No\n",
      "A and C independent: No\n",
      "A and C independent given B: Yes\n",
      "A and D independent: Yes\n",
      "A and D independent given C: No\n"
     ]
    }
   ],
   "source": [
    "# Define the variables and their states\n",
    "variables = ['A', 'B', 'C', 'D']\n",
    "cardinality = [2, 2, 2, 2]  # Two states for each variable: True and False\n",
    "\n",
    "probabilities = [\n",
    "    0.0448, 0.0252, 0.0112, 0.0588,\n",
    "    0.0144, 0.0144, 0.0096, 0.0216,\n",
    "    0.1024, 0.0576, 0.0256, 0.1344,\n",
    "    0.1152, 0.1152, 0.0768, 0.1728\n",
    "]\n",
    "\n",
    "jpd_table = JointProbabilityDistribution(variables, cardinality, np.array(probabilities))\n",
    "\n",
    "# Check for independence between variables\n",
    "independence_results = {\n",
    "    \"A and B independent\": jpd_table.check_independence(['A'], ['B']),\n",
    "    \"A and C independent\": jpd_table.check_independence(['A'], ['C']),\n",
    "    \"A and C independent given B\": jpd_table.check_independence(['A'], ['C'], ('B',), condition_random_variable=True),\n",
    "    \"A and D independent\": jpd_table.check_independence(['A'], ['D']),\n",
    "    \"A and D independent given C\": jpd_table.check_independence(['A'], ['D'], ('C',), condition_random_variable=True)\n",
    "}\n",
    "\n",
    "for question, result in independence_results.items():\n",
    "    print(f\"{question}: {'Yes' if result else 'No'}\")"
   ],
   "metadata": {
    "collapsed": false,
    "ExecuteTime": {
     "end_time": "2024-02-12T23:45:42.867416600Z",
     "start_time": "2024-02-12T23:45:42.850810600Z"
    }
   },
   "id": "4581c15ad3e9a4aa",
   "execution_count": 152
  },
  {
   "cell_type": "markdown",
   "source": [
    "**Using Pandas and TabularCPD in pgmpy library**"
   ],
   "metadata": {
    "collapsed": false
   },
   "id": "3c760b77fd29b228"
  },
  {
   "cell_type": "code",
   "outputs": [
    {
     "name": "stdout",
     "output_type": "stream",
     "text": [
      "       A     B     C     D  P(A,B,C,D)\n",
      "0   A(0)  B(0)  C(0)  D(0)      0.0448\n",
      "1   A(0)  B(0)  C(0)  D(1)      0.0252\n",
      "2   A(0)  B(0)  C(1)  D(0)      0.0112\n",
      "3   A(0)  B(0)  C(1)  D(1)      0.0588\n",
      "4   A(0)  B(1)  C(0)  D(0)      0.0144\n",
      "5   A(0)  B(1)  C(0)  D(1)      0.0144\n",
      "6   A(0)  B(1)  C(1)  D(0)      0.0096\n",
      "7   A(0)  B(1)  C(1)  D(1)      0.0216\n",
      "8   A(1)  B(0)  C(0)  D(0)      0.1024\n",
      "9   A(1)  B(0)  C(0)  D(1)      0.0576\n",
      "10  A(1)  B(0)  C(1)  D(0)      0.0256\n",
      "11  A(1)  B(0)  C(1)  D(1)      0.1344\n",
      "12  A(1)  B(1)  C(0)  D(0)      0.1152\n",
      "13  A(1)  B(1)  C(0)  D(1)      0.1152\n",
      "14  A(1)  B(1)  C(1)  D(0)      0.0768\n",
      "15  A(1)  B(1)  C(1)  D(1)      0.1728\n"
     ]
    }
   ],
   "source": [
    "import pandas as pd\n",
    "\n",
    "# Define your JPD data\n",
    "jpd_data = [\n",
    "    ('A(0)', 'B(0)', 'C(0)', 'D(0)', 0.0448),\n",
    "    ('A(0)', 'B(0)', 'C(0)', 'D(1)', 0.0252),\n",
    "    ('A(0)', 'B(0)', 'C(1)', 'D(0)', 0.0112),\n",
    "    ('A(0)', 'B(0)', 'C(1)', 'D(1)', 0.0588),\n",
    "    ('A(0)', 'B(1)', 'C(0)', 'D(0)', 0.0144),\n",
    "    ('A(0)', 'B(1)', 'C(0)', 'D(1)', 0.0144),\n",
    "    ('A(0)', 'B(1)', 'C(1)', 'D(0)', 0.0096),\n",
    "    ('A(0)', 'B(1)', 'C(1)', 'D(1)', 0.0216),\n",
    "    ('A(1)', 'B(0)', 'C(0)', 'D(0)', 0.1024),\n",
    "    ('A(1)', 'B(0)', 'C(0)', 'D(1)', 0.0576),\n",
    "    ('A(1)', 'B(0)', 'C(1)', 'D(0)', 0.0256),\n",
    "    ('A(1)', 'B(0)', 'C(1)', 'D(1)', 0.1344),\n",
    "    ('A(1)', 'B(1)', 'C(0)', 'D(0)', 0.1152),\n",
    "    ('A(1)', 'B(1)', 'C(0)', 'D(1)', 0.1152),\n",
    "    ('A(1)', 'B(1)', 'C(1)', 'D(0)', 0.0768),\n",
    "    ('A(1)', 'B(1)', 'C(1)', 'D(1)', 0.1728)\n",
    "]\n",
    "\n",
    "# Create a DataFrame from the JPD data\n",
    "columns = ['A', 'B', 'C', 'D', 'P(A,B,C,D)']\n",
    "df = pd.DataFrame(jpd_data, columns=columns)\n",
    "print(df)"
   ],
   "metadata": {
    "collapsed": false,
    "ExecuteTime": {
     "end_time": "2024-02-12T23:45:42.931216900Z",
     "start_time": "2024-02-12T23:45:42.864179Z"
    }
   },
   "id": "480c6b4580750e0d",
   "execution_count": 153
  },
  {
   "cell_type": "code",
   "outputs": [
    {
     "name": "stdout",
     "output_type": "stream",
     "text": [
      "Sum of probabilities for A:\n",
      "A(0): 0.2\n",
      "A(1): 0.8\n",
      "\n",
      "Sum of probabilities for B:\n",
      "B(0): 0.45999999999999996\n",
      "B(1): 0.54\n",
      "\n",
      "Sum of probabilities for C:\n",
      "C(0): 0.48919999999999997\n",
      "C(1): 0.5107999999999999\n",
      "\n",
      "Sum of probabilities for D:\n",
      "D(0): 0.4\n",
      "D(1): 0.5999999999999999\n"
     ]
    }
   ],
   "source": [
    "model = BayesianNetwork([('A', 'P(A,B,C,D)'), ('B', 'P(A,B,C,D)'), ('C', 'P(A,B,C,D)'), ('D','P(A,B,C,D)')])\n",
    "\n",
    "# Initialize dictionaries to hold sums for each variable level\n",
    "sums_A = {'A(0)': 0, 'A(1)': 0}\n",
    "sums_B = {'B(0)': 0, 'B(1)': 0}\n",
    "sums_C = {'C(0)': 0, 'C(1)': 0}\n",
    "sums_D = {'D(0)': 0, 'D(1)': 0}\n",
    "\n",
    "# Iterate over rows in the DataFrame and sum up probabilities for A, B, C, and D\n",
    "for _, row in df.iterrows():\n",
    "    a_val = row['A']\n",
    "    b_val = row['B']\n",
    "    c_val = row['C']\n",
    "    d_val = row['D']\n",
    "    probability = row['P(A,B,C,D)']\n",
    "\n",
    "    # Sum probabilities for A\n",
    "    sums_A[a_val] += probability\n",
    "\n",
    "    # Sum probabilities for B\n",
    "    sums_B[b_val] += probability\n",
    "\n",
    "    # Sum probabilities for C\n",
    "    sums_C[c_val] += probability\n",
    "\n",
    "    # Sum probabilities for D\n",
    "    sums_D[d_val] += probability\n",
    "\n",
    "# Print the sums\n",
    "print(\"Sum of probabilities for A:\")\n",
    "for key, value in sums_A.items():\n",
    "    print(f\"{key}: {value}\")\n",
    "\n",
    "print(\"\\nSum of probabilities for B:\")\n",
    "for key, value in sums_B.items():\n",
    "    print(f\"{key}: {value}\")\n",
    "\n",
    "print(\"\\nSum of probabilities for C:\")\n",
    "for key, value in sums_C.items():\n",
    "    print(f\"{key}: {value}\")\n",
    "\n",
    "print(\"\\nSum of probabilities for D:\")\n",
    "for key, value in sums_D.items():\n",
    "    print(f\"{key}: {value}\")\n",
    "\n",
    "\n",
    "# Define the Conditional Probability Distributions (CPDs) with computed values\n",
    "cpd_A = TabularCPD(variable='A', variable_card=2, values=[[sums_A['A(0)']], [sums_A['A(1)']]])\n",
    "cpd_B = TabularCPD(variable='B', variable_card=2, values=[[sums_B['B(0)']], [sums_B['B(1)']]])\n",
    "cpd_C = TabularCPD(variable='C', variable_card=2, values=[[sums_C['C(0)']], [sums_C['C(1)']]])\n",
    "cpd_D = TabularCPD(variable='D', variable_card=2, values=[[sums_D['D(0)']], [sums_D['D(1)']]])\n",
    "cpd_P = TabularCPD(variable='P(A,B,C,D)', variable_card=2,\n",
    "                   values=[[0.9552, 0.9748, 0.9888, 0.9412,\n",
    "                            0.9856, 0.9856, 0.9904, 0.9784,\n",
    "                            0.8976, 0.9424, 0.9744, 0.8656,\n",
    "                            0.8848, 0.8848, 0.9232, 0.8272],\n",
    "                           [0.0448, 0.0252, 0.0112, 0.0588,\n",
    "                            0.0144, 0.0144, 0.0096, 0.0216,\n",
    "                            0.1024, 0.0576, 0.0256, 0.1344,\n",
    "                            0.1152, 0.1152, 0.0768, 0.1728]\n",
    "                           ],\n",
    "                   evidence=['A', 'B', 'C', 'D'],\n",
    "                   evidence_card=[2, 2, 2, 2])\n",
    "\n",
    "model.add_cpds(cpd_P,cpd_A,cpd_B,cpd_C,cpd_D)"
   ],
   "metadata": {
    "collapsed": false,
    "ExecuteTime": {
     "end_time": "2024-02-13T00:13:35.457803900Z",
     "start_time": "2024-02-13T00:13:35.442349500Z"
    }
   },
   "id": "c7b7e224d0572a7f",
   "execution_count": 182
  },
  {
   "cell_type": "code",
   "outputs": [
    {
     "data": {
      "text/plain": "True"
     },
     "execution_count": 183,
     "metadata": {},
     "output_type": "execute_result"
    }
   ],
   "source": [
    "# check_model checks for the network structure and CPDs and verifies that the CPDs are correctly\n",
    "# defined and sum to 1.\n",
    "model.check_model()"
   ],
   "metadata": {
    "collapsed": false,
    "ExecuteTime": {
     "end_time": "2024-02-13T00:13:38.223804300Z",
     "start_time": "2024-02-13T00:13:38.198703600Z"
    }
   },
   "id": "da0e859fadbc4b3c",
   "execution_count": 183
  },
  {
   "cell_type": "code",
   "outputs": [],
   "source": [
    "infer = VariableElimination(model)"
   ],
   "metadata": {
    "collapsed": false,
    "ExecuteTime": {
     "end_time": "2024-02-13T00:13:40.901997100Z",
     "start_time": "2024-02-13T00:13:40.886729500Z"
    }
   },
   "id": "7b7211120808240",
   "execution_count": 184
  },
  {
   "cell_type": "markdown",
   "source": [
    "**Are A and B independent?**\n",
    "A and B are (unconditionally) independent if and only if\n",
    "Is P(A) × P(B) = P(A and B)?\n",
    "Is P(A|B) = P(A)?\n",
    "Is P(B|A) = P(B)?"
   ],
   "metadata": {
    "collapsed": false
   },
   "id": "bf69a1c0fe203371"
  },
  {
   "cell_type": "code",
   "outputs": [
    {
     "name": "stdout",
     "output_type": "stream",
     "text": [
      "\n",
      "Conditional distribution of A given B=1:\n",
      "+------+----------+\n",
      "| A    |   phi(A) |\n",
      "+======+==========+\n",
      "| A(0) |   0.2000 |\n",
      "+------+----------+\n",
      "| A(1) |   0.8000 |\n",
      "+------+----------+\n"
     ]
    }
   ],
   "source": [
    "# Perform inference to get the marginal distribution of A\n",
    "# A_dist = infer.query(['A'])\n",
    "#rint(cpd_B.state_names)\n",
    "# Perform inference to get the distribution of A given B=1\n",
    "AgivenB_dist = infer.query(['A'], evidence={'B': 1})\n",
    "\n",
    "\n",
    "print(\"\\nConditional distribution of A given B=1:\")\n",
    "print(AgivenB_dist)"
   ],
   "metadata": {
    "collapsed": false,
    "ExecuteTime": {
     "end_time": "2024-02-13T00:16:23.854657400Z",
     "start_time": "2024-02-13T00:16:23.840434100Z"
    }
   },
   "id": "8bb2cc90d6b78491",
   "execution_count": 190
  },
  {
   "cell_type": "markdown",
   "source": [],
   "metadata": {
    "collapsed": false
   },
   "id": "8446784f41a27549"
  },
  {
   "cell_type": "markdown",
   "source": [
    "**Are A and C independent?**"
   ],
   "metadata": {
    "collapsed": false
   },
   "id": "9883e7dbc3c3afb6"
  },
  {
   "cell_type": "code",
   "outputs": [
    {
     "name": "stdout",
     "output_type": "stream",
     "text": [
      "A and C are dependent.\n"
     ]
    }
   ],
   "source": [
    "AC_dist = infer.query(['A', 'C'])\n",
    "\n",
    "filtered_data_AC = df[(df['A'] == 'A(1)') & (df['C'] == 'C(1)')]\n",
    "\n",
    "# Calculate the sum over column 'P(A,B,C,D)' for the filtered rows\n",
    "sum_p_AC = filtered_data_AC['P(A,B,C,D)'].sum()\n",
    "\n",
    "# Calculate the product of probabilities for the filtered rows\n",
    "product_p_AC = filtered_data_AC['P(A,B,C,D)'].prod()\n",
    "\n",
    "# Check if the sum and product match\n",
    "if sum_p_AC == product_p_AC:\n",
    "    print(\"A and C are independent.\")\n",
    "else:\n",
    "    print(\"A and C are dependent.\")"
   ],
   "metadata": {
    "collapsed": false,
    "ExecuteTime": {
     "end_time": "2024-02-12T23:45:42.969594600Z",
     "start_time": "2024-02-12T23:45:42.924538200Z"
    }
   },
   "id": "8185fd5d1263508d",
   "execution_count": 156
  },
  {
   "cell_type": "markdown",
   "source": [
    "**Are A and C independent given B?**"
   ],
   "metadata": {
    "collapsed": false
   },
   "id": "59cb2187f10388c4"
  },
  {
   "cell_type": "code",
   "outputs": [
    {
     "name": "stdout",
     "output_type": "stream",
     "text": [
      "P(B=false)= 0.45999999999999996\n",
      "P(A=true, B=true)= 0.14\n",
      "P(A|B=false)= 0.3043478260869566\n",
      "\n",
      "P(C=false, B=false)= 0.22999999999999998\n",
      "P(C|B=false)= 0.5\n",
      "P(A|B=false) * P(C|B=false)= 0.1521739130434783\n",
      "\n",
      "P(A=false, C=false | B=false)= 0.15217391304347827\n",
      "A and C are independent given B.\n"
     ]
    }
   ],
   "source": [
    "# Calculate P(B=false)\n",
    "p_b_false = infer.query(['B']).get_value(B=0)\n",
    "print(\"P(B=false)=\", p_b_false)\n",
    "\n",
    "# Calculate P(A=false, B=false)\n",
    "p_a_false_b_false = df[(df['A'] == 'A(0)') & (df['B'] == 'B(0)')]['P(A,B,C,D)'].sum()\n",
    "print(\"P(A=true, B=true)=\", p_a_false_b_false)\n",
    "print(\"P(A|B=false)=\", p_a_false_b_false / p_b_false)\n",
    "print()\n",
    "\n",
    "# Calculate P(C=false, B=false)\n",
    "p_c_false_b_false = df[(df['C'] == 'C(0)') & (df['B'] == 'B(0)')]['P(A,B,C,D)'].sum()\n",
    "print(\"P(C=false, B=false)=\", p_c_false_b_false)\n",
    "print(\"P(C|B=false)=\", p_c_false_b_false / p_b_false)\n",
    "\n",
    "# Check independence\n",
    "independence_product = (p_c_false_b_false / p_b_false) * (p_a_false_b_false / p_b_false)\n",
    "print(\"P(A|B=false) * P(C|B=false)=\", independence_product)\n",
    "print()\n",
    "\n",
    "# Calculate P(A=false, C=false, B=false) \n",
    "p_a_false_c_false_b_false = df[(df['A'] == 'A(0)') & (df['C'] == 'C(0)') & (df['B'] == 'B(0)')]['P(A,B,C,D)'].sum()\n",
    "p_b_false = df[df['B'] == 'B(0)']['P(A,B,C,D)'].sum()\n",
    "\n",
    "# Calculate P(A=false, C=false | B=false)\n",
    "p_a_false_c_false_given_b_false = p_a_false_c_false_b_false / p_b_false\n",
    "print(\"P(A=false, C=false | B=false)=\", p_a_false_c_false_given_b_false)\n",
    "\n",
    "# Check for independence\n",
    "if np.isclose(p_a_false_c_false_given_b_false, independence_product):\n",
    "    print(\"A and C are independent given B.\")\n",
    "else:\n",
    "    print(\"A and C are dependent given B.\")\n"
   ],
   "metadata": {
    "collapsed": false,
    "ExecuteTime": {
     "end_time": "2024-02-12T23:45:42.969594600Z",
     "start_time": "2024-02-12T23:45:42.942310600Z"
    }
   },
   "id": "a239238cfd48ffc4",
   "execution_count": 157
  }
 ],
 "metadata": {
  "kernelspec": {
   "display_name": "Python 3",
   "language": "python",
   "name": "python3"
  },
  "language_info": {
   "codemirror_mode": {
    "name": "ipython",
    "version": 2
   },
   "file_extension": ".py",
   "mimetype": "text/x-python",
   "name": "python",
   "nbconvert_exporter": "python",
   "pygments_lexer": "ipython2",
   "version": "2.7.6"
  }
 },
 "nbformat": 4,
 "nbformat_minor": 5
}
