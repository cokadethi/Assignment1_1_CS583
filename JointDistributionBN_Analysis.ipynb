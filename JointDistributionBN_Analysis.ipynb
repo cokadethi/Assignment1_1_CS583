{
 "cells": [
  {
   "cell_type": "markdown",
   "source": [
    "Disclaimer: The question is phrased somewhat vague, so I have decided to make the process faster and concise by utilizing Joint Probability Distributions (JPD) instead. Given the assignment's lack of explicit requirements beyond this, I believe this approach adequately fulfills the task at hand. Should further details be necessary, I am  open to incorporating them, please let me know if this is the case."
   ],
   "metadata": {
    "collapsed": false
   },
   "id": "2bb0d80bc47f7686"
  },
  {
   "cell_type": "code",
   "outputs": [],
   "source": [
    "from pgmpy.factors.discrete import JointProbabilityDistribution\n",
    "import numpy as np"
   ],
   "metadata": {
    "collapsed": false,
    "ExecuteTime": {
     "end_time": "2024-02-13T03:36:55.214545100Z",
     "start_time": "2024-02-13T03:36:55.186234700Z"
    }
   },
   "id": "d622d5d4ff9d4c75",
   "execution_count": 204
  },
  {
   "cell_type": "markdown",
   "source": [
    "**Problem 5**\n",
    "We are given the following joint distribution over the random variables A, B, C, and D. \n",
    "\n",
    "| A | B | C | D | P(A,B,C,D) |\n",
    "|---|---|---|---|------------|\n",
    "| T | T | T | T | 0.0448     |\n",
    "| T | T | T | F | 0.0252     |\n",
    "| T | T | F | T | 0.0112     |\n",
    "| T | T | F | F | 0.0588     |\n",
    "| T | F | T | T | 0.0144     |\n",
    "| T | F | T | F | 0.0144     |\n",
    "| T | F | F | T | 0.096      |\n",
    "| F | F | F | F | 0.216      |\n",
    "| F | T | T | T | 0.1024     |\n",
    "| F | T | T | F | 0.0576     |\n",
    "| F | T | F | T | 0.0256     |\n",
    "| F | T | F | F | 0.1344     |\n",
    "| F | F | T | T | 0.1152     |\n",
    "| F | F | T | F | 0.1152     |\n",
    "| F | F | F | T | 0.0768     |\n",
    "| F | F | F | F | 0.1728     |\n",
    "\n",
    " 1. Are A and B independent? \n",
    " 2. Are A and C independent?\n",
    " 3. Are A and C independent given B?\n",
    " 4. Are A and D independent?\n",
    " 5. Are A and D independent given C?\n"
   ],
   "metadata": {
    "collapsed": false
   },
   "id": "e49babf0e6491cd0"
  },
  {
   "cell_type": "markdown",
   "source": [
    "**Using JointProbabilityDistribution in pgmpy library**"
   ],
   "metadata": {
    "collapsed": false
   },
   "id": "7b70e5de1fc19a94"
  },
  {
   "cell_type": "code",
   "outputs": [
    {
     "name": "stdout",
     "output_type": "stream",
     "text": [
      "A and B independent: No\n",
      "A and C independent: No\n",
      "A and C independent given B: Yes\n",
      "A and D independent: Yes\n",
      "A and D independent given C: No\n"
     ]
    }
   ],
   "source": [
    "# Define the variables and their states\n",
    "variables = ['A', 'B', 'C', 'D']\n",
    "cardinality = [2, 2, 2, 2]  # Two states for each variable: True and False\n",
    "\n",
    "probabilities = [\n",
    "    0.0448, 0.0252, 0.0112, 0.0588,\n",
    "    0.0144, 0.0144, 0.0096, 0.0216,\n",
    "    0.1024, 0.0576, 0.0256, 0.1344,\n",
    "    0.1152, 0.1152, 0.0768, 0.1728\n",
    "]\n",
    "\n",
    "jpd_table = JointProbabilityDistribution(variables, cardinality, np.array(probabilities))\n",
    "\n",
    "# Check for independence between variables\n",
    "independence_results = {\n",
    "    \"A and B independent\": jpd_table.check_independence(['A'], ['B']),\n",
    "    \"A and C independent\": jpd_table.check_independence(['A'], ['C']),\n",
    "    \"A and C independent given B\": jpd_table.check_independence(['A'], ['C'], ('B',), condition_random_variable=True),\n",
    "    \"A and D independent\": jpd_table.check_independence(['A'], ['D']),\n",
    "    \"A and D independent given C\": jpd_table.check_independence(['A'], ['D'], ('C',), condition_random_variable=True)\n",
    "}\n",
    "\n",
    "for question, result in independence_results.items():\n",
    "    print(f\"{question}: {'Yes' if result else 'No'}\")"
   ],
   "metadata": {
    "collapsed": false,
    "ExecuteTime": {
     "end_time": "2024-02-13T03:36:55.227320Z",
     "start_time": "2024-02-13T03:36:55.213373Z"
    }
   },
   "id": "4581c15ad3e9a4aa",
   "execution_count": 205
  }
 ],
 "metadata": {
  "kernelspec": {
   "display_name": "Python 3",
   "language": "python",
   "name": "python3"
  },
  "language_info": {
   "codemirror_mode": {
    "name": "ipython",
    "version": 2
   },
   "file_extension": ".py",
   "mimetype": "text/x-python",
   "name": "python",
   "nbconvert_exporter": "python",
   "pygments_lexer": "ipython2",
   "version": "2.7.6"
  }
 },
 "nbformat": 4,
 "nbformat_minor": 5
}
