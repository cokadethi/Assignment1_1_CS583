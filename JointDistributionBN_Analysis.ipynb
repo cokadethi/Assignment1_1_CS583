{
 "cells": [
  {
   "cell_type": "markdown",
   "source": [
    "We are given the following joint distribution over the random variables A, B, C, and D. \n",
    "\n",
    "| A | B | C | D | P(A,B,C,D) |\n",
    "|---|---|---|---|------------|\n",
    "| T | T | T | T | 0.0448     |\n",
    "| T | T | T | F | 0.0252     |\n",
    "| T | T | F | T | 0.0112     |\n",
    "| T | T | F | F | 0.0588     |\n",
    "| T | F | T | T | 0.0144     |\n",
    "| T | F | T | F | 0.0144     |\n",
    "| T | F | F | T | 0.096      |\n",
    "| F | F | F | F | 0.216      |\n",
    "| F | T | T | T | 0.1024     |\n",
    "| F | T | T | F | 0.0576     |\n",
    "| F | T | F | T | 0.0256     |\n",
    "| F | T | F | F | 0.1344     |\n",
    "| F | F | T | T | 0.1152     |\n",
    "| F | F | T | F | 0.1152     |\n",
    "| F | F | F | T | 0.0768     |\n",
    "| F | F | F | F | 0.1728     |\n",
    "\n",
    " 1. Are A and B independent? \n",
    " 2. Are A and C independent?\n",
    " 3. Are A and C independent given B?\n",
    " 4. Are A and D independent?\n",
    " 5. Are A and D independent given C?\n"
   ],
   "metadata": {
    "collapsed": false
   },
   "id": "e49babf0e6491cd0"
  },
  {
   "cell_type": "code",
   "outputs": [
    {
     "name": "stdout",
     "output_type": "stream",
     "text": [
      "+------+------+------+------+--------------+\n",
      "| A    | B    | C    | D    |   P(A,B,C,D) |\n",
      "+======+======+======+======+==============+\n",
      "| A(0) | B(0) | C(0) | D(0) |       0.0448 |\n",
      "+------+------+------+------+--------------+\n",
      "| A(0) | B(0) | C(0) | D(1) |       0.0252 |\n",
      "+------+------+------+------+--------------+\n",
      "| A(0) | B(0) | C(1) | D(0) |       0.0112 |\n",
      "+------+------+------+------+--------------+\n",
      "| A(0) | B(0) | C(1) | D(1) |       0.0588 |\n",
      "+------+------+------+------+--------------+\n",
      "| A(0) | B(1) | C(0) | D(0) |       0.0144 |\n",
      "+------+------+------+------+--------------+\n",
      "| A(0) | B(1) | C(0) | D(1) |       0.0144 |\n",
      "+------+------+------+------+--------------+\n",
      "| A(0) | B(1) | C(1) | D(0) |       0.0096 |\n",
      "+------+------+------+------+--------------+\n",
      "| A(0) | B(1) | C(1) | D(1) |       0.0216 |\n",
      "+------+------+------+------+--------------+\n",
      "| A(1) | B(0) | C(0) | D(0) |       0.1024 |\n",
      "+------+------+------+------+--------------+\n",
      "| A(1) | B(0) | C(0) | D(1) |       0.0576 |\n",
      "+------+------+------+------+--------------+\n",
      "| A(1) | B(0) | C(1) | D(0) |       0.0256 |\n",
      "+------+------+------+------+--------------+\n",
      "| A(1) | B(0) | C(1) | D(1) |       0.1344 |\n",
      "+------+------+------+------+--------------+\n",
      "| A(1) | B(1) | C(0) | D(0) |       0.1152 |\n",
      "+------+------+------+------+--------------+\n",
      "| A(1) | B(1) | C(0) | D(1) |       0.1152 |\n",
      "+------+------+------+------+--------------+\n",
      "| A(1) | B(1) | C(1) | D(0) |       0.0768 |\n",
      "+------+------+------+------+--------------+\n",
      "| A(1) | B(1) | C(1) | D(1) |       0.1728 |\n",
      "+------+------+------+------+--------------+\n"
     ]
    },
    {
     "data": {
      "text/plain": "True"
     },
     "execution_count": 17,
     "metadata": {},
     "output_type": "execute_result"
    }
   ],
   "source": [
    "import itertools\n",
    "from functools import reduce\n",
    "from operator import mul\n",
    "\n",
    "import numpy as np\n",
    "from pgmpy.factors.discrete import JointProbabilityDistribution\n",
    "\n",
    "from pgmpy.factors.discrete import DiscreteFactor\n",
    "from pgmpy.independencies import Independencies\n",
    "\n",
    "# Define the variables and their states\n",
    "variables = ['A', 'B', 'C', 'D']\n",
    "cardinality = [2, 2, 2, 2]  # Two states for each variable: True and False\n",
    "\n",
    "# Define the probabilities corresponding to the combinations in your table\n",
    "probabilities = [\n",
    "    0.0448, 0.0252, 0.0112, 0.0588,\n",
    "    0.0144, 0.0144, 0.0096, 0.0216,\n",
    "    0.1024, 0.0576, 0.0256, 0.1344,\n",
    "    0.1152, 0.1152, 0.0768, 0.1728\n",
    "]\n",
    "\n",
    "# Create the Joint Probability Distribution\n",
    "jpd_table = JointProbabilityDistribution(variables, cardinality, np.array(probabilities))\n",
    "\n",
    "print(jpd_table)\n",
    "jpd_table.marginal_distribution(['x1', 'x2'])\n",
    "jpd_table.check_independence(['I'], ['D'])"
   ],
   "metadata": {
    "collapsed": false,
    "ExecuteTime": {
     "end_time": "2024-02-09T05:39:31.501094500Z",
     "start_time": "2024-02-09T05:39:31.481278700Z"
    }
   },
   "id": "4581c15ad3e9a4aa",
   "execution_count": 17
  }
 ],
 "metadata": {
  "kernelspec": {
   "display_name": "Python 3",
   "language": "python",
   "name": "python3"
  },
  "language_info": {
   "codemirror_mode": {
    "name": "ipython",
    "version": 2
   },
   "file_extension": ".py",
   "mimetype": "text/x-python",
   "name": "python",
   "nbconvert_exporter": "python",
   "pygments_lexer": "ipython2",
   "version": "2.7.6"
  }
 },
 "nbformat": 4,
 "nbformat_minor": 5
}
