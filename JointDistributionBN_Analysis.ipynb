{
 "cells": [
  {
   "cell_type": "code",
   "outputs": [],
   "source": [
    "import itertools\n",
    "from functools import reduce\n",
    "from operator import mul\n",
    "import matplotlib.pyplot as plt\n",
    "import networkx as nx\n",
    "from daft import PGM\n",
    "from pgmpy.models import BayesianModel, BayesianNetwork\n",
    "from pgmpy.estimators import MaximumLikelihoodEstimator, ParameterEstimator\n",
    "from pgmpy.factors.discrete import TabularCPD, JointProbabilityDistribution, DiscreteFactor\n",
    "from pgmpy.inference import VariableElimination\n",
    "import pandas as pd\n",
    "import numpy as np\n",
    "from pgmpy.independencies import Independencies"
   ],
   "metadata": {
    "collapsed": false,
    "ExecuteTime": {
     "end_time": "2024-02-11T20:17:43.086224400Z",
     "start_time": "2024-02-11T20:17:43.033894300Z"
    }
   },
   "id": "d622d5d4ff9d4c75",
   "execution_count": 63
  },
  {
   "cell_type": "markdown",
   "source": [
    "**Problem 5**\n",
    "We are given the following joint distribution over the random variables A, B, C, and D. \n",
    "\n",
    "| A | B | C | D | P(A,B,C,D) |\n",
    "|---|---|---|---|------------|\n",
    "| T | T | T | T | 0.0448     |\n",
    "| T | T | T | F | 0.0252     |\n",
    "| T | T | F | T | 0.0112     |\n",
    "| T | T | F | F | 0.0588     |\n",
    "| T | F | T | T | 0.0144     |\n",
    "| T | F | T | F | 0.0144     |\n",
    "| T | F | F | T | 0.096      |\n",
    "| F | F | F | F | 0.216      |\n",
    "| F | T | T | T | 0.1024     |\n",
    "| F | T | T | F | 0.0576     |\n",
    "| F | T | F | T | 0.0256     |\n",
    "| F | T | F | F | 0.1344     |\n",
    "| F | F | T | T | 0.1152     |\n",
    "| F | F | T | F | 0.1152     |\n",
    "| F | F | F | T | 0.0768     |\n",
    "| F | F | F | F | 0.1728     |\n",
    "\n",
    " 1. Are A and B independent? \n",
    " 2. Are A and C independent?\n",
    " 3. Are A and C independent given B?\n",
    " 4. Are A and D independent?\n",
    " 5. Are A and D independent given C?\n"
   ],
   "metadata": {
    "collapsed": false
   },
   "id": "e49babf0e6491cd0"
  },
  {
   "cell_type": "markdown",
   "source": [
    "**Using JointProbabilityDistribution in pgmpy library**"
   ],
   "metadata": {
    "collapsed": false
   },
   "id": "7b70e5de1fc19a94"
  },
  {
   "cell_type": "code",
   "outputs": [
    {
     "name": "stdout",
     "output_type": "stream",
     "text": [
      "A and B independent: No\n",
      "A and C independent: No\n",
      "A and C independent given B: Yes\n",
      "A and D independent: Yes\n",
      "A and D independent given C: No\n"
     ]
    }
   ],
   "source": [
    "# Define the variables and their states\n",
    "variables = ['A', 'B', 'C', 'D']\n",
    "cardinality = [2, 2, 2, 2]  # Two states for each variable: True and False\n",
    "\n",
    "probabilities = [\n",
    "    0.0448, 0.0252, 0.0112, 0.0588,\n",
    "    0.0144, 0.0144, 0.0096, 0.0216,\n",
    "    0.1024, 0.0576, 0.0256, 0.1344,\n",
    "    0.1152, 0.1152, 0.0768, 0.1728\n",
    "]\n",
    "\n",
    "jpd_table = JointProbabilityDistribution(variables, cardinality, np.array(probabilities))\n",
    "\n",
    "# Check for independence between variables\n",
    "independence_results = {\n",
    "    \"A and B independent\": jpd_table.check_independence(['A'], ['B']),\n",
    "    \"A and C independent\": jpd_table.check_independence(['A'], ['C']),\n",
    "    \"A and C independent given B\": jpd_table.check_independence(['A'], ['C'], ('B',), condition_random_variable=True),\n",
    "    \"A and D independent\": jpd_table.check_independence(['A'], ['D']),\n",
    "    \"A and D independent given C\": jpd_table.check_independence(['A'], ['D'], ('C',), condition_random_variable=True)\n",
    "}\n",
    "\n",
    "for question, result in independence_results.items():\n",
    "    print(f\"{question}: {'Yes' if result else 'No'}\")"
   ],
   "metadata": {
    "collapsed": false,
    "ExecuteTime": {
     "end_time": "2024-02-11T20:17:43.178611400Z",
     "start_time": "2024-02-11T20:17:43.089469300Z"
    }
   },
   "id": "4581c15ad3e9a4aa",
   "execution_count": 64
  },
  {
   "cell_type": "markdown",
   "source": [
    "**Using Pandas and TabularCPD in pgmpy library**"
   ],
   "metadata": {
    "collapsed": false
   },
   "id": "3c760b77fd29b228"
  },
  {
   "cell_type": "code",
   "outputs": [
    {
     "name": "stdout",
     "output_type": "stream",
     "text": [
      "       A     B     C     D  P(A,B,C,D)\n",
      "0   A(0)  B(0)  C(0)  D(0)      0.0448\n",
      "1   A(0)  B(0)  C(0)  D(1)      0.0252\n",
      "2   A(0)  B(0)  C(1)  D(0)      0.0112\n",
      "3   A(0)  B(0)  C(1)  D(1)      0.0588\n",
      "4   A(0)  B(1)  C(0)  D(0)      0.0144\n",
      "5   A(0)  B(1)  C(0)  D(1)      0.0144\n",
      "6   A(0)  B(1)  C(1)  D(0)      0.0096\n",
      "7   A(0)  B(1)  C(1)  D(1)      0.0216\n",
      "8   A(1)  B(0)  C(0)  D(0)      0.1024\n",
      "9   A(1)  B(0)  C(0)  D(1)      0.0576\n",
      "10  A(1)  B(0)  C(1)  D(0)      0.0256\n",
      "11  A(1)  B(0)  C(1)  D(1)      0.1344\n",
      "12  A(1)  B(1)  C(0)  D(0)      0.1152\n",
      "13  A(1)  B(1)  C(0)  D(1)      0.1152\n",
      "14  A(1)  B(1)  C(1)  D(0)      0.0768\n",
      "15  A(1)  B(1)  C(1)  D(1)      0.1728\n"
     ]
    }
   ],
   "source": [
    "import pandas as pd\n",
    "\n",
    "# Define your JPD data\n",
    "jpd_data = [\n",
    "    ('A(0)', 'B(0)', 'C(0)', 'D(0)', 0.0448),\n",
    "    ('A(0)', 'B(0)', 'C(0)', 'D(1)', 0.0252),\n",
    "    ('A(0)', 'B(0)', 'C(1)', 'D(0)', 0.0112),\n",
    "    ('A(0)', 'B(0)', 'C(1)', 'D(1)', 0.0588),\n",
    "    ('A(0)', 'B(1)', 'C(0)', 'D(0)', 0.0144),\n",
    "    ('A(0)', 'B(1)', 'C(0)', 'D(1)', 0.0144),\n",
    "    ('A(0)', 'B(1)', 'C(1)', 'D(0)', 0.0096),\n",
    "    ('A(0)', 'B(1)', 'C(1)', 'D(1)', 0.0216),\n",
    "    ('A(1)', 'B(0)', 'C(0)', 'D(0)', 0.1024),\n",
    "    ('A(1)', 'B(0)', 'C(0)', 'D(1)', 0.0576),\n",
    "    ('A(1)', 'B(0)', 'C(1)', 'D(0)', 0.0256),\n",
    "    ('A(1)', 'B(0)', 'C(1)', 'D(1)', 0.1344),\n",
    "    ('A(1)', 'B(1)', 'C(0)', 'D(0)', 0.1152),\n",
    "    ('A(1)', 'B(1)', 'C(0)', 'D(1)', 0.1152),\n",
    "    ('A(1)', 'B(1)', 'C(1)', 'D(0)', 0.0768),\n",
    "    ('A(1)', 'B(1)', 'C(1)', 'D(1)', 0.1728)\n",
    "]\n",
    "\n",
    "# Create a DataFrame from the JPD data\n",
    "columns = ['A', 'B', 'C', 'D', 'P(A,B,C,D)']\n",
    "df = pd.DataFrame(jpd_data, columns=columns)\n",
    "print(df)"
   ],
   "metadata": {
    "collapsed": false,
    "ExecuteTime": {
     "end_time": "2024-02-11T20:17:43.185359500Z",
     "start_time": "2024-02-11T20:17:43.131655100Z"
    }
   },
   "id": "480c6b4580750e0d",
   "execution_count": 65
  },
  {
   "cell_type": "code",
   "outputs": [
    {
     "name": "stdout",
     "output_type": "stream",
     "text": [
      "Sum of probabilities for A:\n",
      "A(0): 0.2\n",
      "A(1): 0.8\n",
      "\n",
      "Sum of probabilities for B:\n",
      "B(0): 0.45999999999999996\n",
      "B(1): 0.54\n",
      "\n",
      "Sum of probabilities for C:\n",
      "C(0): 0.48919999999999997\n",
      "C(1): 0.5107999999999999\n",
      "\n",
      "Sum of probabilities for D:\n",
      "D(0): 0.4\n",
      "D(1): 0.5999999999999999\n"
     ]
    }
   ],
   "source": [
    "model = BayesianNetwork([('A', 'P(A,B,C,D)'), ('B', 'P(A,B,C,D)'), ('C', 'P(A,B,C,D)'), ('D','P(A,B,C,D)')])\n",
    "\n",
    "# Initialize dictionaries to hold sums for each variable level\n",
    "sums_A = {'A(0)': 0, 'A(1)': 0}\n",
    "sums_B = {'B(0)': 0, 'B(1)': 0}\n",
    "sums_C = {'C(0)': 0, 'C(1)': 0}\n",
    "sums_D = {'D(0)': 0, 'D(1)': 0}\n",
    "\n",
    "# Iterate over rows in the DataFrame and sum up probabilities for A, B, C, and D\n",
    "for _, row in df.iterrows():\n",
    "    a_val = row['A']\n",
    "    b_val = row['B']\n",
    "    c_val = row['C']\n",
    "    d_val = row['D']\n",
    "    probability = row['P(A,B,C,D)']\n",
    "\n",
    "    # Sum probabilities for A\n",
    "    sums_A[a_val] += probability\n",
    "\n",
    "    # Sum probabilities for B\n",
    "    sums_B[b_val] += probability\n",
    "\n",
    "    # Sum probabilities for C\n",
    "    sums_C[c_val] += probability\n",
    "\n",
    "    # Sum probabilities for D\n",
    "    sums_D[d_val] += probability\n",
    "\n",
    "# Print the sums\n",
    "print(\"Sum of probabilities for A:\")\n",
    "for key, value in sums_A.items():\n",
    "    print(f\"{key}: {value}\")\n",
    "\n",
    "print(\"\\nSum of probabilities for B:\")\n",
    "for key, value in sums_B.items():\n",
    "    print(f\"{key}: {value}\")\n",
    "\n",
    "print(\"\\nSum of probabilities for C:\")\n",
    "for key, value in sums_C.items():\n",
    "    print(f\"{key}: {value}\")\n",
    "\n",
    "print(\"\\nSum of probabilities for D:\")\n",
    "for key, value in sums_D.items():\n",
    "    print(f\"{key}: {value}\")\n",
    "\n",
    "\n",
    "# Define the Conditional Probability Distributions (CPDs) with computed values\n",
    "cpd_A = TabularCPD(variable='A', variable_card=2, values=[[sums_A['A(0)']], [sums_A['A(1)']]])\n",
    "cpd_B = TabularCPD(variable='B', variable_card=2, values=[[sums_B['B(0)']], [sums_B['B(1)']]])\n",
    "cpd_C = TabularCPD(variable='C', variable_card=2, values=[[sums_C['C(0)']], [sums_C['C(1)']]])\n",
    "cpd_D = TabularCPD(variable='D', variable_card=2, values=[[sums_D['D(0)']], [sums_D['D(1)']]])\n",
    "cpd_P = TabularCPD(variable='P(A,B,C,D)', variable_card=2,\n",
    "                   values=[[0.0448, 0.0252, 0.0112, 0.0588,\n",
    "                            0.0144, 0.0144, 0.0096, 0.0216,\n",
    "                            0.1024, 0.0576, 0.0256, 0.1344,\n",
    "                            0.1152, 0.1152, 0.0768, 0.1728],\n",
    "                           [0.9552, 0.9748, 0.9888, 0.9412,\n",
    "                            0.9856, 0.9856, 0.9904, 0.9784,\n",
    "                            0.8976, 0.9424, 0.9744, 0.8656,\n",
    "                            0.8848, 0.8848, 0.9232, 0.8272]],\n",
    "                   evidence=['A', 'B', 'C', 'D'],\n",
    "                   evidence_card=[2, 2, 2, 2])\n",
    "\n",
    "model.add_cpds(cpd_P,cpd_A,cpd_B,cpd_C,cpd_D)\n",
    "infer = VariableElimination(model)"
   ],
   "metadata": {
    "collapsed": false,
    "ExecuteTime": {
     "end_time": "2024-02-11T20:17:43.223244Z",
     "start_time": "2024-02-11T20:17:43.142061800Z"
    }
   },
   "id": "c7b7e224d0572a7f",
   "execution_count": 66
  },
  {
   "cell_type": "markdown",
   "source": [
    "**Are A and B independent?**"
   ],
   "metadata": {
    "collapsed": false
   },
   "id": "bf69a1c0fe203371"
  },
  {
   "cell_type": "code",
   "outputs": [
    {
     "name": "stdout",
     "output_type": "stream",
     "text": [
      "A and B are dependent.\n"
     ]
    }
   ],
   "source": [
    "AB_dist = infer.query(['A','B'])\n",
    "\n",
    "filtered_data = df[(df['A'] == 'A(1)') & (df['B'] == 'B(1)')]\n",
    "\n",
    "# Calculate the sum over column 'P(A,B,C,D)' for the filtered rows\n",
    "sum_p = filtered_data['P(A,B,C,D)'].sum()\n",
    "\n",
    "# Calculate the product of probabilities for the filtered rows\n",
    "product_p = filtered_data['P(A,B,C,D)'].prod()\n",
    "\n",
    "\n",
    "# Check if the sum and product match\n",
    "if sum_p == product_p:\n",
    "    print(\"A and B are independent.\")\n",
    "else:\n",
    "    print(\"A and B are dependent.\")"
   ],
   "metadata": {
    "collapsed": false,
    "ExecuteTime": {
     "end_time": "2024-02-11T20:17:43.224524300Z",
     "start_time": "2024-02-11T20:17:43.171073800Z"
    }
   },
   "id": "8bb2cc90d6b78491",
   "execution_count": 67
  },
  {
   "cell_type": "markdown",
   "source": [
    "**Are A and B independent?**"
   ],
   "metadata": {
    "collapsed": false
   },
   "id": "9883e7dbc3c3afb6"
  },
  {
   "cell_type": "code",
   "outputs": [
    {
     "name": "stdout",
     "output_type": "stream",
     "text": [
      "A and C are dependent.\n"
     ]
    }
   ],
   "source": [
    "AC_dist = infer.query(['A', 'C'])\n",
    "\n",
    "filtered_data_AC = df[(df['A'] == 'A(1)') & (df['C'] == 'C(1)')]\n",
    "\n",
    "# Calculate the sum over column 'P(A,B,C,D)' for the filtered rows\n",
    "sum_p_AC = filtered_data_AC['P(A,B,C,D)'].sum()\n",
    "\n",
    "# Calculate the product of probabilities for the filtered rows\n",
    "product_p_AC = filtered_data_AC['P(A,B,C,D)'].prod()\n",
    "\n",
    "# Check if the sum and product match\n",
    "if sum_p_AC == product_p_AC:\n",
    "    print(\"A and C are independent.\")\n",
    "else:\n",
    "    print(\"A and C are dependent.\")"
   ],
   "metadata": {
    "collapsed": false,
    "ExecuteTime": {
     "end_time": "2024-02-11T20:17:43.241836300Z",
     "start_time": "2024-02-11T20:17:43.191797800Z"
    }
   },
   "id": "8185fd5d1263508d",
   "execution_count": 68
  },
  {
   "cell_type": "markdown",
   "source": [
    "**Are A and C independent given B?**"
   ],
   "metadata": {
    "collapsed": false
   },
   "id": "59cb2187f10388c4"
  },
  {
   "cell_type": "code",
   "outputs": [
    {
     "name": "stdout",
     "output_type": "stream",
     "text": [
      "P(A|B):\n",
      "+------+----------+\n",
      "| A    |   phi(A) |\n",
      "+======+==========+\n",
      "| A(0) |   0.2000 |\n",
      "+------+----------+\n",
      "| A(1) |   0.8000 |\n",
      "+------+----------+\n",
      "\n",
      "P(C|B):\n",
      "+------+----------+\n",
      "| C    |   phi(C) |\n",
      "+======+==========+\n",
      "| C(0) |   0.4892 |\n",
      "+------+----------+\n",
      "| C(1) |   0.5108 |\n",
      "+------+----------+\n",
      "\n",
      "Product of P(A|B) and P(C|B):\n",
      "(0.09784000000000001, 0.40864000000000006)\n"
     ]
    }
   ],
   "source": [
    "# A⊥C|B if P(A,C|B)=P(A|B)P(C|B)\n",
    "# We have that,\n",
    "# P(A,C|B)= 0.15217391304347827\n",
    "# P(A|B)P(C|B)= 0.15217391304347824\n",
    "\n",
    "\n",
    "# Calculate P(A|B)\n",
    "P_A_given_B = infer.query(['A'], evidence={'B': 1})\n",
    "print(\"P(A|B):\")\n",
    "print(P_A_given_B)\n",
    "\n",
    "# Calculate P(C|B)\n",
    "P_C_given_B = infer.query(['C'], evidence={'B': 1})\n",
    "print(\"\\nP(C|B):\")\n",
    "print(P_C_given_B)\n",
    "\n",
    "# Extract probabilities for A=0 and A=1 given B=1\n",
    "P_A0_given_B = P_A_given_B.values[0]\n",
    "P_A1_given_B = P_A_given_B.values[1]\n",
    "\n",
    "# Extract probabilities for C=0 and C=1 given B=1\n",
    "P_C0_given_B = P_C_given_B.values[0]\n",
    "P_C1_given_B = P_C_given_B.values[1]\n",
    "\n",
    "# Calculate the product of P(A|B) and P(C|B)\n",
    "product_AC_given_B = P_A0_given_B * P_C0_given_B, P_A1_given_B * P_C1_given_B\n",
    "\n",
    "print(\"\\nProduct of P(A|B) and P(C|B):\")\n",
    "print(product_AC_given_B)\n"
   ],
   "metadata": {
    "collapsed": false,
    "ExecuteTime": {
     "end_time": "2024-02-11T20:23:30.619427Z",
     "start_time": "2024-02-11T20:23:30.600270700Z"
    }
   },
   "id": "a239238cfd48ffc4",
   "execution_count": 77
  }
 ],
 "metadata": {
  "kernelspec": {
   "display_name": "Python 3",
   "language": "python",
   "name": "python3"
  },
  "language_info": {
   "codemirror_mode": {
    "name": "ipython",
    "version": 2
   },
   "file_extension": ".py",
   "mimetype": "text/x-python",
   "name": "python",
   "nbconvert_exporter": "python",
   "pygments_lexer": "ipython2",
   "version": "2.7.6"
  }
 },
 "nbformat": 4,
 "nbformat_minor": 5
}
