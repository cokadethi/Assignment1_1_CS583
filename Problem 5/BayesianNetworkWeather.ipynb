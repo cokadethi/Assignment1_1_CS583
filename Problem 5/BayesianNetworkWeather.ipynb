{
 "cells": [
  {
   "cell_type": "markdown",
   "source": [
    "- Bayesian network model to predict the probability of children playing outdoors based on various weather conditions such as outlook, temperature, humidity, and windiness.\n",
    "- Using the pgmpy library in Python, the notebook performs inference tasks to compute the probabilities of playing outdoors under different weather conditions and presents the results in a clear and concise tabular format."
   ],
   "metadata": {
    "collapsed": false
   },
   "id": "c9807e0816445d16"
  },
  {
   "cell_type": "markdown",
   "source": [
    "**Read in data**"
   ],
   "metadata": {
    "collapsed": false
   },
   "id": "7483252a8e4f842e"
  },
  {
   "cell_type": "code",
   "outputs": [
    {
     "name": "stdout",
     "output_type": "stream",
     "text": [
      "     Outlook Temperature Humidity  Windy Play\n",
      "0      Sunny         Hot     High  False   No\n",
      "1      Sunny         Hot     High   True   No\n",
      "2   Overcast         Hot     High  False  Yes\n",
      "3      Rainy        Mild     High  False  Yes\n",
      "4      Rainy        Cool   Normal  False  Yes\n",
      "5      Rainy        Cool   Normal   True   No\n",
      "6   Overcast        Cool   Normal   True  Yes\n",
      "7      Sunny        Mild     High  False   No\n",
      "8      Sunny        Cool   Normal  False  Yes\n",
      "9      Rainy        Mild   Normal  False  Yes\n",
      "10     Sunny        Mild   Normal   True  Yes\n",
      "11  Overcast        Mild     High   True  Yes\n",
      "12  Overcast         Hot   Normal  False  Yes\n",
      "13     Rainy        Mild     High   True   No\n"
     ]
    }
   ],
   "source": [
    "import pandas as pd\n",
    "\n",
    "# Define the data\n",
    "data = {\n",
    "    'Outlook': ['Sunny', 'Sunny', 'Overcast', 'Rainy', 'Rainy', 'Rainy', 'Overcast', 'Sunny', 'Sunny', 'Rainy', 'Sunny', 'Overcast', 'Overcast', 'Rainy'],\n",
    "    'Temperature': ['Hot', 'Hot', 'Hot', 'Mild', 'Cool', 'Cool', 'Cool', 'Mild', 'Cool', 'Mild', 'Mild', 'Mild', 'Hot', 'Mild'],\n",
    "    'Humidity': ['High', 'High', 'High', 'High', 'Normal', 'Normal', 'Normal', 'High', 'Normal', 'Normal', 'Normal', 'High', 'Normal', 'High'],\n",
    "    'Windy': [False, True, False, False, False, True, True, False, False, False, True, True, False, True],\n",
    "    'Play': ['No', 'No', 'Yes', 'Yes', 'Yes', 'No', 'Yes', 'No', 'Yes', 'Yes', 'Yes', 'Yes', 'Yes', 'No']\n",
    "}\n",
    "\n",
    "# Create a DataFrame\n",
    "df = pd.DataFrame(data)\n",
    "\n",
    "# Print the DataFrame to check if it's read correctly\n",
    "print(df)"
   ],
   "metadata": {
    "collapsed": false,
    "ExecuteTime": {
     "end_time": "2024-02-13T03:10:52.022473Z",
     "start_time": "2024-02-13T03:10:51.993649600Z"
    }
   },
   "id": "6c49ddde16c0010d",
   "execution_count": 20
  },
  {
   "cell_type": "markdown",
   "source": [
    "**Define the structure of the Bayesian network based on the variables in dataset**"
   ],
   "metadata": {
    "collapsed": false
   },
   "id": "fcd666043dec812d"
  },
  {
   "cell_type": "code",
   "outputs": [
    {
     "name": "stdout",
     "output_type": "stream",
     "text": [
      "Nodes of the Bayesian network: ['Outlook', 'Play', 'Temperature', 'Humidity', 'Windy']\n"
     ]
    }
   ],
   "source": [
    "from pgmpy.models import BayesianNetwork\n",
    "\n",
    "# Define the structure of the Bayesian network\n",
    "model = BayesianNetwork([('Outlook', 'Play'),\n",
    "                         ('Temperature', 'Play'),\n",
    "                         ('Humidity', 'Play'),\n",
    "                         ('Windy', 'Play')])\n",
    "\n",
    "# Print the nodes of the Bayesian network\n",
    "print(\"Nodes of the Bayesian network:\", model.nodes())"
   ],
   "metadata": {
    "collapsed": false,
    "ExecuteTime": {
     "end_time": "2024-02-13T03:10:52.049017Z",
     "start_time": "2024-02-13T03:10:52.029197100Z"
    }
   },
   "id": "7aac6fc5110aec5d",
   "execution_count": 21
  },
  {
   "cell_type": "markdown",
   "source": [
    "Estimate the parameters from dataset. Add CPDs to the nodes based on dataset:"
   ],
   "metadata": {
    "collapsed": false
   },
   "id": "18b23f2bd2447412"
  },
  {
   "cell_type": "code",
   "outputs": [
    {
     "data": {
      "text/plain": "[<TabularCPD representing P(Outlook:3) at 0x21e0682eaf0>,\n <TabularCPD representing P(Play:2 | Humidity:2, Outlook:3, Temperature:3, Windy:2) at 0x21e7cd87eb0>,\n <TabularCPD representing P(Temperature:3) at 0x21e065a25e0>,\n <TabularCPD representing P(Humidity:2) at 0x21e04a86400>,\n <TabularCPD representing P(Windy:2) at 0x21e04a86eb0>]"
     },
     "execution_count": 22,
     "metadata": {},
     "output_type": "execute_result"
    }
   ],
   "source": [
    "from pgmpy.estimators import MaximumLikelihoodEstimator\n",
    "\n",
    "# Estimate CPDs using Maximum Likelihood Estimation\n",
    "estimator = MaximumLikelihoodEstimator(model, df)\n",
    "\n",
    "# Add CPDs to the model\n",
    "model.fit(df)\n",
    "\n",
    "model.get_cpds()"
   ],
   "metadata": {
    "collapsed": false,
    "ExecuteTime": {
     "end_time": "2024-02-13T03:10:57.651536600Z",
     "start_time": "2024-02-13T03:10:52.053463300Z"
    }
   },
   "id": "a5a698c4917d021f",
   "execution_count": 22
  },
  {
   "cell_type": "markdown",
   "source": [
    "**Actual Prediction Task**"
   ],
   "metadata": {
    "collapsed": false
   },
   "id": "e11e4e0694ec8ddf"
  },
  {
   "cell_type": "code",
   "outputs": [
    {
     "name": "stdout",
     "output_type": "stream",
     "text": [
      "Weather Condition   Probability of Playing\n",
      "-----------------------------------------\n",
      "Sunny                0.45\n",
      "Overcast             0.66\n",
      "Rainy                0.59\n"
     ]
    }
   ],
   "source": [
    "from pgmpy.inference import VariableElimination\n",
    "\n",
    "# Create an inference object\n",
    "inference = VariableElimination(model)\n",
    "\n",
    "# Define the evidence for different weather conditions\n",
    "evidences = {\n",
    "    'Sunny': {'Outlook': 'Sunny'},\n",
    "    'Overcast': {'Outlook': 'Overcast'},\n",
    "    'Rainy': {'Outlook': 'Rainy'}\n",
    "}\n",
    "\n",
    "# Initialize a dictionary to store the results\n",
    "results = {}\n",
    "\n",
    "# Perform inference for each weather condition\n",
    "for condition, evidence in evidences.items():\n",
    "    play_probability = inference.query(variables=['Play'], evidence=evidence)\n",
    "    results[condition] = play_probability.values[1]\n",
    "\n",
    "# Print the results in a tabular format\n",
    "print(\"Weather Condition   Probability of Playing\")\n",
    "print(\"-----------------------------------------\")\n",
    "for condition, probability in results.items():\n",
    "    print(f\"{condition:<20} {probability:.2f}\")\n"
   ],
   "metadata": {
    "collapsed": false,
    "ExecuteTime": {
     "end_time": "2024-02-13T03:10:57.696167100Z",
     "start_time": "2024-02-13T03:10:57.658253100Z"
    }
   },
   "id": "d40249ab40e84d45",
   "execution_count": 23
  },
  {
   "cell_type": "code",
   "outputs": [
    {
     "name": "stdout",
     "output_type": "stream",
     "text": [
      "Temperature Condition   Probability of Playing\n",
      "----------------------------------------------\n",
      "Hot                     0.49\n",
      "Mild                    0.58\n",
      "Cool                    0.59\n"
     ]
    }
   ],
   "source": [
    "# Define the evidence for different temperature conditions\n",
    "temperature_evidences = {\n",
    "    'Hot': {'Temperature': 'Hot'},\n",
    "    'Mild': {'Temperature': 'Mild'},\n",
    "    'Cool': {'Temperature': 'Cool'}\n",
    "}\n",
    "\n",
    "# Initialize a dictionary to store the results\n",
    "temperature_results = {}\n",
    "\n",
    "# Perform inference for each temperature condition\n",
    "for condition, evidence in temperature_evidences.items():\n",
    "    play_probability_temp = inference.query(variables=['Play'], evidence=evidence)\n",
    "    temperature_results[condition] = play_probability_temp.values[1]\n",
    "\n",
    "# Print the results in a tabular format\n",
    "print(\"Temperature Condition   Probability of Playing\")\n",
    "print(\"----------------------------------------------\")\n",
    "for condition, probability in temperature_results.items():\n",
    "    print(f\"{condition:<23} {probability:.2f}\")"
   ],
   "metadata": {
    "collapsed": false,
    "ExecuteTime": {
     "end_time": "2024-02-13T03:10:57.697219200Z",
     "start_time": "2024-02-13T03:10:57.682631Z"
    }
   },
   "id": "ec48130e3a4791cc",
   "execution_count": 24
  },
  {
   "cell_type": "code",
   "outputs": [
    {
     "name": "stdout",
     "output_type": "stream",
     "text": [
      "Humidity Condition   Probability of Playing\n",
      "-------------------------------------------\n",
      "High                 0.47\n",
      "Normal               0.65\n"
     ]
    }
   ],
   "source": [
    "# Define the evidence for different humidity conditions\n",
    "humidity_evidences = {\n",
    "    'High': {'Humidity': 'High'},\n",
    "    'Normal': {'Humidity': 'Normal'}\n",
    "}\n",
    "\n",
    "# Initialize a dictionary to store the results\n",
    "humidity_results = {}\n",
    "\n",
    "# Perform inference for each humidity condition\n",
    "for condition, evidence in humidity_evidences.items():\n",
    "    play_probability_humidity = inference.query(variables=['Play'], evidence=evidence)\n",
    "    humidity_results[condition] = play_probability_humidity.values[1]\n",
    "\n",
    "# Print the results in a tabular format\n",
    "print(\"Humidity Condition   Probability of Playing\")\n",
    "print(\"-------------------------------------------\")\n",
    "for condition, probability in humidity_results.items():\n",
    "    print(f\"{condition:<20} {probability:.2f}\")"
   ],
   "metadata": {
    "collapsed": false,
    "ExecuteTime": {
     "end_time": "2024-02-13T03:10:57.753335800Z",
     "start_time": "2024-02-13T03:10:57.702174300Z"
    }
   },
   "id": "e748cea1ecd061b5",
   "execution_count": 25
  },
  {
   "cell_type": "code",
   "outputs": [
    {
     "name": "stdout",
     "output_type": "stream",
     "text": [
      "Windy Condition   Probability of Playing\n",
      "---------------------------------------\n",
      "Windy            0.50\n",
      "Not Windy        0.60\n"
     ]
    }
   ],
   "source": [
    "# Define the evidence for different windy conditions\n",
    "windy_evidences = {\n",
    "    'Windy': {'Windy': True},\n",
    "    'Not Windy': {'Windy': False}\n",
    "}\n",
    "\n",
    "# Initialize a dictionary to store the results\n",
    "windy_results = {}\n",
    "\n",
    "# Perform inference for each windy condition\n",
    "for condition, evidence in windy_evidences.items():\n",
    "    play_probability_windy = inference.query(variables=['Play'], evidence=evidence)\n",
    "    windy_results[condition] = play_probability_windy.values[1]\n",
    "\n",
    "# Print the results in a tabular format\n",
    "print(\"Windy Condition   Probability of Playing\")\n",
    "print(\"---------------------------------------\")\n",
    "for condition, probability in windy_results.items():\n",
    "    print(f\"{condition:<16} {probability:.2f}\")"
   ],
   "metadata": {
    "collapsed": false,
    "ExecuteTime": {
     "end_time": "2024-02-13T03:10:57.754362500Z",
     "start_time": "2024-02-13T03:10:57.712824500Z"
    }
   },
   "id": "ac17f7f10fd46099",
   "execution_count": 26
  }
 ],
 "metadata": {
  "kernelspec": {
   "display_name": "Python 3",
   "language": "python",
   "name": "python3"
  },
  "language_info": {
   "codemirror_mode": {
    "name": "ipython",
    "version": 2
   },
   "file_extension": ".py",
   "mimetype": "text/x-python",
   "name": "python",
   "nbconvert_exporter": "python",
   "pygments_lexer": "ipython2",
   "version": "2.7.6"
  }
 },
 "nbformat": 4,
 "nbformat_minor": 5
}
